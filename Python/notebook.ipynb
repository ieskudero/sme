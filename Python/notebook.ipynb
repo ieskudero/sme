{
 "cells": [
  {
   "cell_type": "markdown",
   "metadata": {},
   "source": [
    "#Manual de Uso: Funciones para Software matemático y estadístico\n",
    "\n",
    "**Autor/a: Ibon Eskudero**\n",
    "**2024-11-03**"
   ]
  },
  {
   "cell_type": "markdown",
   "metadata": {},
   "source": [
    "# Introducción\n",
    "\n",
    "Este documento describe las funciones implementadas para el entregable de la asignatura de Software matemático y estadístico, así como ejemplos de uso. Las funciones para el entregable se dividen en 7 archivos: 5 archivos enumerados según los puntos requeridos en el entregable, y 2 archivos de ayuda que contienen funciones auxiliares. \n",
    "Los 5 ficheros principales son:\n",
    "\n",
    "1. [Discretización](#disc): `discretize.py`\n",
    "2. [Cálculo de Métricas](#metr): `metrics.py`\n",
    "3. [Normalización y Estandarización](#norm): `normalize.py`\n",
    "4. [Filtrado de Variables](#filtr): `filter.py`\n",
    "5. [Cálculo de Correlación e Información Mutua](#corr): `correlation.py`\n",
    "6. [Visualización (Curva ROC, Mapa de Calor de Correlación)](#plot): `plot.py`\n",
    "\n",
    "Cada fichero lleva asociado un fichero `_test` con ejemplos de uso de cada función principal.\n",
    "\n",
    "Los ficheros de ayuda son:\n",
    "\n",
    "7. [Funciones matemáticas auxiliares](#math): `customMath.py`\n",
    "8. [Funciones auxiliares de utilidad](#utils): `utilities.py`\n",
    "\n",
    "También estan disponibles los ficheros de ejemplo de uso de cada función, que se usarán en este notebook para explicar el uso de cada función principal. Para poder lanzar el código de este notebook en vez de ejecutar cada fichero por separado, será necesario instalar las librerias necesarias desde el archivo requeriments.txt. Para ello, ejecutar el siguiente comando en la terminal:\n",
    "\n",
    "```bash\n",
    "pip install -r requirements.txt\n",
    "```"
   ]
  },
  {
   "cell_type": "code",
   "execution_count": 2,
   "metadata": {},
   "outputs": [
    {
     "name": "stdout",
     "output_type": "stream",
     "text": [
      "Requirement already satisfied: numpy in c:\\users\\109249\\appdata\\local\\programs\\python\\python310\\lib\\site-packages (from -r requirements.txt (line 2)) (2.1.0)\n",
      "Collecting pandas\n",
      "  Downloading pandas-2.2.3-cp310-cp310-win_amd64.whl (11.6 MB)\n",
      "     --------------------------------------- 11.6/11.6 MB 11.7 MB/s eta 0:00:00\n",
      "Requirement already satisfied: matplotlib in c:\\users\\109249\\appdata\\local\\programs\\python\\python310\\lib\\site-packages (from -r requirements.txt (line 8)) (3.7.1)\n",
      "Requirement already satisfied: debugpy in c:\\users\\109249\\appdata\\roaming\\python\\python310\\site-packages (from -r requirements.txt (line 11)) (1.8.7)\n",
      "Collecting tzdata>=2022.7\n",
      "  Downloading tzdata-2024.2-py2.py3-none-any.whl (346 kB)\n",
      "     -------------------------------------- 346.6/346.6 kB 7.2 MB/s eta 0:00:00\n",
      "Requirement already satisfied: python-dateutil>=2.8.2 in c:\\users\\109249\\appdata\\local\\programs\\python\\python310\\lib\\site-packages (from pandas->-r requirements.txt (line 5)) (2.8.2)\n",
      "Collecting pytz>=2020.1\n",
      "  Downloading pytz-2024.2-py2.py3-none-any.whl (508 kB)\n",
      "     ------------------------------------- 508.0/508.0 kB 10.6 MB/s eta 0:00:00\n",
      "Requirement already satisfied: kiwisolver>=1.0.1 in c:\\users\\109249\\appdata\\local\\programs\\python\\python310\\lib\\site-packages (from matplotlib->-r requirements.txt (line 8)) (1.4.4)\n",
      "Requirement already satisfied: cycler>=0.10 in c:\\users\\109249\\appdata\\local\\programs\\python\\python310\\lib\\site-packages (from matplotlib->-r requirements.txt (line 8)) (0.11.0)\n",
      "Requirement already satisfied: fonttools>=4.22.0 in c:\\users\\109249\\appdata\\local\\programs\\python\\python310\\lib\\site-packages (from matplotlib->-r requirements.txt (line 8)) (4.40.0)\n",
      "Requirement already satisfied: pillow>=6.2.0 in c:\\users\\109249\\appdata\\local\\programs\\python\\python310\\lib\\site-packages (from matplotlib->-r requirements.txt (line 8)) (9.5.0)\n",
      "Requirement already satisfied: pyparsing>=2.3.1 in c:\\users\\109249\\appdata\\local\\programs\\python\\python310\\lib\\site-packages (from matplotlib->-r requirements.txt (line 8)) (3.1.0)\n",
      "Requirement already satisfied: packaging>=20.0 in c:\\users\\109249\\appdata\\local\\programs\\python\\python310\\lib\\site-packages (from matplotlib->-r requirements.txt (line 8)) (23.1)\n",
      "Requirement already satisfied: contourpy>=1.0.1 in c:\\users\\109249\\appdata\\local\\programs\\python\\python310\\lib\\site-packages (from matplotlib->-r requirements.txt (line 8)) (1.1.0)\n",
      "Requirement already satisfied: six>=1.5 in c:\\users\\109249\\appdata\\local\\programs\\python\\python310\\lib\\site-packages (from python-dateutil>=2.8.2->pandas->-r requirements.txt (line 5)) (1.16.0)\n",
      "Installing collected packages: pytz, tzdata, pandas\n",
      "Successfully installed pandas-2.2.3 pytz-2024.2 tzdata-2024.2\n",
      "Note: you may need to restart the kernel to use updated packages.\n"
     ]
    },
    {
     "name": "stderr",
     "output_type": "stream",
     "text": [
      "\n",
      "[notice] A new release of pip available: 22.2.2 -> 24.3.1\n",
      "[notice] To update, run: python.exe -m pip install --upgrade pip\n"
     ]
    }
   ],
   "source": [
    "pip install -r requirements.txt"
   ]
  },
  {
   "cell_type": "markdown",
   "metadata": {},
   "source": [
    "<a id=\"disc\"></a>\n",
    "# 1. Discretización\n",
    "\n",
    "### Introducción\n",
    "\n",
    "**Enunciado**: Algoritmos de discretización para un solo atributo y para un dataset completo (ambas opciones): Igual frecuencia e igual anchura\n",
    "\n",
    "Dentro del fichero `discretize.py` se encuentra la clase `Discretize`, que contiene las funciones para discretizar que pide el enunciado del entregable (`discretize_attribute` y `discretize_dataframe`) y las funciones auxiliares necesarias (`discretize` y `discretize_vector`).\n",
    "\n",
    "### Métodos Implementados"
   ]
  },
  {
   "cell_type": "markdown",
   "metadata": {},
   "source": [
    "#### discretize_attribute(df, column, num.bins, method)\n",
    "Método para discretizar un atributo mediante los métodos \"equal width\" y \"equal frecuency\"\n",
    "\n",
    "**Definición**\n",
    "```python\n",
    "discretice_attribute(df, column, num_bins, method='equal_width')\n",
    "'''\n",
    "\tMétodo para discretizar un atributo mediante los métodos \"equal width\" y \"equal frecuency\" \t\n",
    "\tParámetros:                                         \n",
    "\t\tdf: (dataframe) data.frame que se desea discretizar.   \n",
    "\t\tcolumn: (str) Nombre de la columna/atributo a discretizar. \n",
    "\t\tcuts: (int) Número de intervalos en los que se desea discretizar.\t\n",
    "\t\tmethod: (str) String que indica el método de discretización a utilizar:             \n",
    "\t\t\t\t\"equal_width\" para igual anchura o \"equal_frequency\" para igual frecuencia. \n",
    "\n",
    "\tReturn: (object) Un objeto que contiene los valores discretizados y los puntos de corte.\n",
    "\tdiscretice_attribute <- function(df, column, num.bins, method = \"equal_width\")\n",
    "'''\n",
    "```\n",
    "**Ejemplo de Uso**"
   ]
  },
  {
   "cell_type": "code",
   "execution_count": 3,
   "metadata": {},
   "outputs": [
    {
     "name": "stdout",
     "output_type": "stream",
     "text": [
      "{'valores': [(10.5, 15.5], (5.5, 10.5], (-inf, 5.5], (-inf, 5.5], (-inf, 5.5], (15.5, inf], (5.5, 10.5]]\n",
      "Categories (4, interval[float64, right]): [(-inf, 5.5] < (5.5, 10.5] < (10.5, 15.5] < (15.5, inf]], 'puntos': array([ 0.5,  5.5, 10.5, 15.5, 20.5])}\n",
      "{'valores': [(8.4, 11.5], (8.4, 11.5], (-inf, 1.2], (-inf, 1.2], (1.2, 8.4], (11.5, inf], (1.2, 8.4]]\n",
      "Categories (4, interval[float64, right]): [(-inf, 1.2] < (1.2, 8.4] < (8.4, 11.5] < (11.5, inf]], 'puntos': [0.5, 1.2, 8.4, 11.5, 20.5]}\n"
     ]
    }
   ],
   "source": [
    "import pandas as pd\n",
    "\n",
    "from discretize import Discretize\n",
    "from utilities import Utilities\n",
    "\n",
    "# Instanciar la clase Discretize\n",
    "discretizer = Discretize()\n",
    "\n",
    "# Crear datos de prueba\n",
    "v1 = [11.5, 10.2, 1.2, 0.5, 5.3, 20.5, 8.4]\n",
    "v2 = [11.5, 15, 1.2, 0.5, 5.3, 20.5, 8.4]\n",
    "k = 4\n",
    "\n",
    "Utilities.clean_console()\n",
    "df = pd.DataFrame( { 'valor1': v1, 'valor2': v2 } )\n",
    "test2_width = discretizer.discretice_attribute(df,\"valor1\",k,\"equal_width\")\n",
    "print(test2_width)\n",
    "df = pd.DataFrame( { 'valor1': v1, 'valor2': v2 } )\n",
    "test2_freq = discretizer.discretice_attribute(df,\"valor1\",k,\"equal_frequency\")\n",
    "print(test2_freq)"
   ]
  },
  {
   "cell_type": "markdown",
   "metadata": {},
   "source": [
    "#### discretize_dataframe(df, num.bins, method)\n",
    "Método para discretizar un data.frame mediante los métodos \"equal width\" y \"equal frecuency\" \n",
    "\n",
    "**Definición**\n",
    "```python\n",
    "discretice_dataframe(df, num_bins, method='equal_width')\n",
    "'''\n",
    "\tMétodo para discretizar un data.frame mediante los métodos \"equal width\" y \"equal frecuency\"\n",
    "\tParámetros:\n",
    "\t\tdf: (dataframe) data.frame que se desea discretizar.\n",
    "\t\tnum_bins: (int) Número de intervalos en los que se desea discretizar.\n",
    "\t\tmethod: (str) String que indica el método de discretización a utilizar.\n",
    "\t\t\t\t\"equal_width\" para igual anchura o \"equal_frequency\" para igual frecuencia.\n",
    "\n",
    "\tReturn: (dataframe) Mismo objeto de entrada con los atributos discretizados.\n",
    "'''\n",
    "```\n",
    "**Ejemplo de Uso**"
   ]
  },
  {
   "cell_type": "code",
   "execution_count": null,
   "metadata": {},
   "outputs": [],
   "source": [
    "import pandas as pd\n",
    "\n",
    "from discretize import Discretize\n",
    "from utilities import Utilities\n",
    "\n",
    "# Instanciar la clase Discretize\n",
    "discretizer = Discretize()\n",
    "\n",
    "# Crear datos de prueba\n",
    "v1 = [11.5, 10.2, 1.2, 0.5, 5.3, 20.5, 8.4]\n",
    "v2 = [11.5, 15, 1.2, 0.5, 5.3, 20.5, 8.4]\n",
    "k = 4\n",
    "\n",
    "Utilities.clean_console()\n",
    "df = pd.DataFrame( { 'valor1': v1, 'valor2': v2 } )\n",
    "test3_width = discretizer.discretice_dataframe(df,k,\"equal_width\")\n",
    "print(test3_width)\n",
    "df = pd.DataFrame( { 'valor1': v1, 'valor2': v2 } )\n",
    "test3_freq = discretizer.discretice_dataframe(df,k,\"equal_frequency\")\n",
    "print(test3_freq)"
   ]
  },
  {
   "cell_type": "markdown",
   "metadata": {},
   "source": [
    "#### discretize_vector(x, cuts, method)\n",
    "Método auxliar para discretizar vectores mediante los métodos \"equal width\" y \"equal frecuency\" \n",
    "\n",
    "**Definición**\n",
    "```python\n",
    "discretice_vector(x, cuts, method='equal_width')\n",
    "'''\n",
    "\tMétodo auxliar para discretizar vectores mediante los métodos \"equal width\" y \"equal frecuency\"\n",
    "\tParámetros:\n",
    "\t\tx: (list) Vector numérico que se desea discretizar.\n",
    "\t\tcuts: (int) Número de intervalos en los que se desea discretizar.\n",
    "\t\tmethod: (str) String que indica el método de discretización a utilizar.\n",
    "\t\t\t\t\"equal_width\" para igual anchura o \"equal_frequency\" para igual frecuencia.\n",
    "\t\t\t\t\t\n",
    "\tReturn: (object) Un objeto que contiene los valores discretizados y los puntos de corte.\n",
    "'''\n",
    "```\n",
    "**Ejemplo de Uso**"
   ]
  },
  {
   "cell_type": "code",
   "execution_count": null,
   "metadata": {},
   "outputs": [],
   "source": [
    "from discretize import Discretize\n",
    "from utilities import Utilities\n",
    "\n",
    "# Instanciar la clase Discretize\n",
    "discretizer = Discretize()\n",
    "\n",
    "# Crear datos de prueba\n",
    "v1 = [11.5, 10.2, 1.2, 0.5, 5.3, 20.5, 8.4]\n",
    "v2 = [11.5, 15, 1.2, 0.5, 5.3, 20.5, 8.4]\n",
    "k = 4\n",
    "\n",
    "Utilities.clean_console()\n",
    "test1_width = discretizer.discretice_vector(v,k,\"equal_width\")\n",
    "print(test1_width)\n",
    "test1_freq = discretizer.discretice_vector(v,k,\"equal_frequency\")\n",
    "print(test1_freq)"
   ]
  },
  {
   "cell_type": "markdown",
   "metadata": {},
   "source": [
    "#### discretize(x, cut.points)\n",
    "Método auxiliar para generar tramos en un vector mediante los puntos de corte \n",
    "\n",
    "**Definición**\n",
    "```python\n",
    "discretize(x, cut_points)\n",
    "'''\n",
    "\tMétodo auxiliar para generar tramos en un vector mediante los puntos de corte\n",
    "\tParámetros: \n",
    "\t\tx: (list) Vector numérico que se desea discretizar.\n",
    "\t\tcut_points: (list) Vector numérico con los puntos de corte.\n",
    "\t\t\t\n",
    "\tReturn: (object) Un objeto que contiene los valores discretizados y los puntos de corte.\n",
    "'''\t    \n",
    "```\n",
    "**Ejemplo de Uso**"
   ]
  },
  {
   "cell_type": "code",
   "execution_count": null,
   "metadata": {},
   "outputs": [],
   "source": [
    "from discretize import Discretize\n",
    "from utilities import Utilities\n",
    "\n",
    "# Instanciar la clase Discretize\n",
    "discretizer = Discretize()\n",
    "\n",
    "# Crear datos de prueba\n",
    "v1 = [11.5, 10.2, 1.2, 0.5, 5.3, 20.5, 8.4]\n",
    "v2 = [11.5, 0.5, 20.5]\n",
    "\n",
    "Utilities.clean_console()\n",
    "test = discretizer.discretice(v1,v2)\n",
    "print(test)"
   ]
  },
  {
   "cell_type": "markdown",
   "metadata": {},
   "source": [
    "<a id=\"metr\"></a>\n",
    "# 2. Cálculo de Métricas\n",
    "\n",
    "### Introducción\n",
    "\n",
    "**Enunciado**: Cálculo de métricas para los atributos de un dataset: varianza y AUC para las variables contínuas y entropía para las discretas. La función deberá reconocer el tipo de atributo y actuar en consecuencia. Notese que en el caso del AUC, el dataset debe ser supervisado, es decir, es necesario especificar una variable clase binaria con la que evaluar el AUC de los atributos numéricos.\n",
    "\n",
    "Dentro del fichero `metrics.py` se encuentra la clase `Metrics` con la función para el cálculo de métricas que pide el enunciado (`get_metricas`) y la función auxiliar necesaria para el cálculo de AUC( `calculate_auc`).\n",
    "\n",
    "### Métodos Implementados"
   ]
  },
  {
   "cell_type": "markdown",
   "metadata": {},
   "source": [
    "#### get_metricas(df, AUC_target)\n",
    "Método para conseguir las métricas de varianza,entropia y UAC de un dataframe \n",
    "\n",
    "**Definición**\n",
    "```python\n",
    "get_metricas(df,AUC_target)\n",
    "'''\n",
    "\tMétodo para conseguir las métricas de varianza,entropia y UAC de un dataframe\n",
    "\tParámetros:\n",
    "\t\tdf: (dataframe) data.frame para el que se desean generar métricas\n",
    "\t\tAUC_target: (dataframe) Si se desea calcular UAC para algún variable, hay que pasarle una variable\n",
    "\t\t\t\t\tcon igual nombre para calcular el target\n",
    "\tReturn: (dataframe) Métricas para cada variable dependiendo de si es númerico discreto o no.\n",
    "'''\n",
    "```\n",
    "**Ejemplo de Uso**"
   ]
  },
  {
   "cell_type": "code",
   "execution_count": null,
   "metadata": {},
   "outputs": [],
   "source": [
    "import pandas as pd\n",
    "import numpy as np\n",
    "\n",
    "from metrics import Metrics\n",
    "from utilities import Utilities\n",
    "\n",
    "# Instanciar la clase Discretize\n",
    "metrics = Metrics()\n",
    "\n",
    "# TEST VARIABLES\n",
    "df = pd.DataFrame({\n",
    "    'x': np.random.normal(size=100),\n",
    "    'y': np.random.normal(size=100),\n",
    "    'z': pd.Series(np.random.choice(['A', 'B'], size=100)).astype('category')\n",
    "})\n",
    "\n",
    "AUC_target = pd.DataFrame({\n",
    "    'x': np.random.choice([0, 1], size=100),\n",
    "    'y': np.random.choice([0, 1], size=100)\n",
    "})\n",
    "\n",
    "Utilities.clean_console()\n",
    "\n",
    "test_result = metrics.get_metricas(df,AUC_target)\n",
    "\n",
    "print(test_result)"
   ]
  },
  {
   "cell_type": "markdown",
   "metadata": {},
   "source": [
    "#### calculate_auc(predictions, target)\n",
    "Método auxiliar para calcular el AUC de una variable \n",
    "\n",
    "**Definición**\n",
    "```python\n",
    "calculate_auc(predictions,target)\n",
    "'''\n",
    "\tMétodo auxiliar para calcular el AUC de una variable\n",
    "\tParámetros:\n",
    "\t\tpredictions: (list) Vector numérico en el que se desea calcular el AUC.\n",
    "\t\ttarget: (list) target para el calculo supervisado.\n",
    "\n",
    "\tReturn: (object) Object con AUC=valor AUC, TPR=positive rate y FPR=negative rate.\n",
    "'''\n",
    "```\n",
    "**Ejemplo de Uso**"
   ]
  },
  {
   "cell_type": "code",
   "execution_count": null,
   "metadata": {},
   "outputs": [],
   "source": [
    "import numpy as np\n",
    "\n",
    "from metrics import Metrics\n",
    "from utilities import Utilities\n",
    "\n",
    "# Instanciar la clase Metrics\n",
    "metrics = Metrics()\n",
    "\n",
    "# TEST VARIABLES\n",
    "v = np.random.normal(size=100)\n",
    "target = np.random.choice([0, 1], size=100)\n",
    "\n",
    "Utilities.clean_console()\n",
    "\n",
    "test_result = metrics.calculate_auc(v, target)\n",
    "\n",
    "print(test_result)"
   ]
  },
  {
   "cell_type": "markdown",
   "metadata": {},
   "source": [
    "<a id=\"norm\"></a>\n",
    "# 3. Normalización y Estandarización\n",
    "\n",
    "### Introducción\n",
    "\n",
    "**Enunciado**: Normalización y estandarización de variables, tanto de manera individual como para el dataset completo. Esto solo debe ser aplicado a atributos que sean numéricos.\n",
    "\n",
    "Dentro del fichero `normalize.py` se encuentra la clase `Normalize` con las funciones para normalizar y estandarizar que pide el enunciado (`normalize` y `standardize`).\n",
    "\n",
    "### Métodos Implementados"
   ]
  },
  {
   "cell_type": "markdown",
   "metadata": {},
   "source": [
    "#### normalize(df)\n",
    "Método para normalizar un dataframe \n",
    "\n",
    "**Definición**\n",
    "```python\n",
    "normalize(df)\n",
    "'''\n",
    "\tMétodo para normalizar un dataframe\n",
    "\tParámetros:\n",
    "\t\tdf: (dataframe) dataframe para normalizar\n",
    "\tReturn: (dataframe) dataframe normalizado. Solo normaliza columnas numéricas. \n",
    "'''\n",
    "```\n",
    "**Ejemplo de Uso**"
   ]
  },
  {
   "cell_type": "code",
   "execution_count": null,
   "metadata": {},
   "outputs": [],
   "source": [
    "import pandas as pd\n",
    "\n",
    "from normalize import Normalize\n",
    "from utilities import Utilities\n",
    "\n",
    "# Instanciar la clase Normalize\n",
    "normalize = Normalize()\n",
    "\n",
    "# TEST VARIABLES\n",
    "df = pd.DataFrame( {# Caso con valores distintos e iguales\n",
    "  \"x\": [10, 20, 30, 40, 50],\n",
    "  \"y\":[5, 5, 5, 5, 5]\n",
    "})\n",
    "\n",
    "Utilities.clean_console()\n",
    "\n",
    "test_result = normalize.normalize(df)\n",
    "\n",
    "print(test_result)"
   ]
  },
  {
   "cell_type": "markdown",
   "metadata": {},
   "source": [
    "#### standardize(df)\n",
    "Método para estandarizar un dataframe \n",
    "\n",
    "**Definición**\n",
    "```python\n",
    "standardize(df)\n",
    "'''\n",
    "\tMétodo para estandarizar un dataframe\n",
    "\tParámetros:\n",
    "\t\tdf: (dataframe) dataframe para estandarizar\n",
    "\tReturn: (dataframe) estandarizado. Solo estandariza columnas numéricas \n",
    "'''\n",
    "```\n",
    "**Ejemplo de Uso**"
   ]
  },
  {
   "cell_type": "code",
   "execution_count": null,
   "metadata": {},
   "outputs": [],
   "source": [
    "import pandas as pd\n",
    "\n",
    "from normalize import Normalize\n",
    "from utilities import Utilities\n",
    "\n",
    "# Instanciar la clase Normalize\n",
    "normalize = Normalize()\n",
    "\n",
    "# TEST VARIABLES\n",
    "df = pd.DataFrame( {# Caso con valores distintos e iguales\n",
    "  \"x\": [10, 20, 30, 40, 50],\n",
    "  \"y\":[5, 5, 5, 5, 5]\n",
    "})\n",
    "\n",
    "Utilities.clean_console()\n",
    "\n",
    "test_result = normalize.standardize(df)\n",
    "\n",
    "print(test_result)"
   ]
  },
  {
   "cell_type": "markdown",
   "metadata": {},
   "source": [
    "<a id=\"filtr\"></a>\n",
    "# 4. Filtrado de Variables\n",
    "\n",
    "### Introducción\n",
    "\n",
    "**Enunciado**: Filtrado de variables en base a las métricas implementadas. Es decir, partiendo de un dataset, obtener uno nuevo donde todas las variables cumplan los requisitos indicado (por ejemplo, una entropía superior a un cierto umbral).\n",
    "\n",
    "Dentro del fichero `filter.py` se encuentra la clase `Filter` con la función para filtrar un dataset que pide el enunciado (`filter_by_entropy`). Se ha seleccionado el filtrado por entropía mínima como ejemplo de filtrado, pero se podrían implementar filtros con otras métricas.\n",
    "\n",
    "### Métodos Implementados"
   ]
  },
  {
   "cell_type": "markdown",
   "metadata": {},
   "source": [
    "#### filter_by_entropy(df, threshold)\n",
    "Método para filtar un dataframe en base a un threshold de entropia\n",
    "\n",
    "**Definición**\n",
    "```python\n",
    "filter_by_entropy(df, threshold)\n",
    "'''\n",
    "\tMétodo para filtar un dataframe en base a un threshold de entropía\n",
    "\tParámetros:\n",
    "\t\tdf: (dataframe) data.frame para filtar\n",
    "\t\tthreshold: (float) Threshold para filtar por entropia\n",
    "\tReturn: (dataframe) dataframe filtrado, eliminando las variables que no hayan superado el threshold\n",
    "'''\n",
    "```\n",
    "**Ejemplo de Uso**"
   ]
  },
  {
   "cell_type": "code",
   "execution_count": null,
   "metadata": {},
   "outputs": [],
   "source": [
    "import pandas as pd\n",
    "\n",
    "from filter import Filter\n",
    "from utilities import Utilities\n",
    "\n",
    "# Instanciar la clase Filter\n",
    "filter = Filter()\n",
    "\n",
    "# TEST VARIABLES\n",
    "df = pd.DataFrame( {\n",
    "  \"categoria1\": pd.Series([\"A\", \"A\", \"B\", \"A\", \"B\", \"B\"]).astype(\"category\"),\n",
    "  \"categoria2\": pd.Series([\"X\", \"X\", \"X\", \"X\", \"X\", \"X\"]).astype(\"category\"),  # Entropía baja\n",
    "  \"valores\": [10, 20, 30, 40, 50, 60],\n",
    "  \"texto\": [\"uno\", \"dos\", \"tres\", \"uno\", \"dos\", \"tres\"]\n",
    "})\n",
    "threshold = 0.0001\n",
    "\n",
    "Utilities.clean_console()\n",
    "\n",
    "test_result = filter.filter_by_entropy(df, threshold)\n",
    "\n",
    "print(test_result)"
   ]
  },
  {
   "cell_type": "markdown",
   "metadata": {},
   "source": [
    "<a id=\"corr\"></a>\n",
    "# 5. Cálculo de Correlación e Información Mutua\n",
    "\n",
    "### Introducción\n",
    "\n",
    "**Enunciado**: Cálculo de la correlación (información mutua en el caso de variables categóricas) por pares entre variables de un dataset. La función deberá considerar de qué tipo es cada variable.\n",
    "\n",
    "Dentro del fichero `correlation.py` se encuentra la clase `Correlation` con la función para calcular la correlación e información mutua que pide el enunciado (`get_correlation`).\n",
    "\n",
    "### Métodos Implementados"
   ]
  },
  {
   "cell_type": "markdown",
   "metadata": {},
   "source": [
    "#### get_correlation(df, max_values)\n",
    "Método para calcular la correlación en un dataframe en base al tipo de variable \n",
    "\n",
    "**Definición**\n",
    "```python\n",
    "get_correlation(df, max_values=5)\n",
    "'''\n",
    "\tMétodo para calcular la correlación en un data.frame en base al tipo de variable\n",
    "\tParámetros:\n",
    "\t\tdf: (dataframe) dataframe para correlacionar\n",
    "\t\tmax_values: (int) cantidad máxima de opciones únicas de un factor a tener en cuenta para ser\n",
    "\t\t\t\t\t\t\t\tconsiderado como variable categórica\n",
    "\tReturn: (matrix) matriz de correlaciones\n",
    "'''\n",
    "```\n",
    "**Ejemplo de Uso**"
   ]
  },
  {
   "cell_type": "code",
   "execution_count": null,
   "metadata": {},
   "outputs": [],
   "source": [
    "import pandas as pd\n",
    "import numpy as np\n",
    "\n",
    "from correlation import Correlation\n",
    "from utilities import Utilities\n",
    "\n",
    "# Instanciar la clase Correlation\n",
    "correlation = Correlation()\n",
    "\n",
    "# TEST VARIABLES\n",
    "df = pd.DataFrame({\n",
    "    'x': np.random.normal(size=100),\n",
    "    'y': np.random.normal(size=100),\n",
    "    'a': pd.Series(np.random.choice(['A', 'B', 'C'], size=100)).astype('category'),\n",
    "    'b': pd.Series(np.random.choice(['A', 'B', 'C'], size=100)).astype('category')\n",
    "})\n",
    "\n",
    "Utilities.clean_console()\n",
    "\n",
    "test_result = correlation.get_correlation(df)\n",
    "\n",
    "print(test_result)"
   ]
  },
  {
   "cell_type": "markdown",
   "metadata": {},
   "source": [
    "<a id=\"plot\"></a>\n",
    "# 6. Visualización\n",
    "\n",
    "### Introducción\n",
    "\n",
    "**Enunciado**: Plots para el AUC y para las matrices de correlación/información mutua.\n",
    "\n",
    "Dentro del fichero `plot.py` se encuentra la clase `Plot` con las funciones para visualizar que pide el enunciado (`calculate_plot_auc` y `plot_correlation_heatmap`). hacen uso de las funciones implementadas en el punto 2 y 5.\n",
    "\n",
    "### Métodos Implementados"
   ]
  },
  {
   "cell_type": "markdown",
   "metadata": {},
   "source": [
    "#### calculate_plot_auc(variable, target)\n",
    "Método para mostrar el plot del AUC de una variable \n",
    "\n",
    "**Definición**\n",
    "```python\n",
    "calculate_plot_auc(variable, target)\n",
    "\"\"\"\n",
    "\tMétodo para mostrar el plot del AUC de una variable\n",
    "\tParámetros:\n",
    "\t\tvariable: (list) Vector numérico en el que se desea calcular el AUC.\n",
    "\t\ttarget: (list) target para el calculo supervisado.\n",
    "\"\"\"\n",
    "```\n",
    "**Ejemplo de Uso**"
   ]
  },
  {
   "cell_type": "code",
   "execution_count": null,
   "metadata": {},
   "outputs": [],
   "source": [
    "import numpy as np\n",
    "\n",
    "from plot import Plot\n",
    "\n",
    "# Instanciar la clase Plot\n",
    "plot = Plot()\n",
    "\n",
    "# TEST VARIABLES\n",
    "v = np.random.normal(size=100)\n",
    "target = np.random.choice([0, 1], size=100)\n",
    "\n",
    "plot.calculate_plot_auc(v, target)\n"
   ]
  },
  {
   "cell_type": "markdown",
   "metadata": {},
   "source": [
    "#### plot_correlation_heatmap(df)\n",
    "Método para mostrar el plot de una matriz de correlación\n",
    "\n",
    "**Definición**\n",
    "```python\n",
    "plot_correlation_heatmap(df)\n",
    "\"\"\"\n",
    "\tMétodo para mostrar el plot de la matriz de correlación de un data.frame\n",
    "\tParámetros:\n",
    "\t\tdf: (dataframe) dataframe para el cálculo de la matriz de correlación.\n",
    "\"\"\"\n",
    "```\n",
    "**Ejemplo de Uso**"
   ]
  },
  {
   "cell_type": "code",
   "execution_count": null,
   "metadata": {},
   "outputs": [],
   "source": [
    "import pandas as pd\n",
    "import numpy as np\n",
    "\n",
    "from plot import Plot\n",
    "\n",
    "# Instanciar la clase Plot\n",
    "plot = Plot()\n",
    "\n",
    "# TEST VARIABLES\n",
    "df = pd.DataFrame({\n",
    "    'a': np.random.normal(size=100),\n",
    "    'b': np.random.normal(size=100),\n",
    "    'c': np.random.normal(size=100),\n",
    "    'd': np.random.normal(size=100),\n",
    "})\n",
    "\n",
    "plot.plot_correlation_heatmap(df)\n"
   ]
  },
  {
   "cell_type": "markdown",
   "metadata": {},
   "source": [
    "<a id=\"math\"></a>\n",
    "# 7. Funciones matemáticas auxiliares\n",
    "\n",
    "### Introducción\n",
    " Se han implementado varias funciones auxiliares para el cálculo de operaciones matemáticas necesarias a lo largo de todo el entregable. Estas funciones se encuentran en el fichero `customMath.py`. Son funciones que se pueden encontrar en otras librerías de python, como numpy, pero se han implementado para tener un mayor control sobre el código y para evitar dependencias externas.\n",
    "\n",
    "### Métodos Implementados"
   ]
  },
  {
   "cell_type": "markdown",
   "metadata": {},
   "source": [
    "#### get_entropia(fact)\n",
    "Función auxiliar para calcular la entropía\n",
    "\n",
    "**Definición**\n",
    "```python\n",
    "get_entropia(fact)\n",
    "\"\"\"\n",
    "\tMétodo auxiliar para calcular la entropía\n",
    "\tParámetros:\n",
    "\t\tfact: (list) vector con los valores de la categoría\n",
    "\tReturn: (float) entropía\n",
    "\"\"\"\n",
    "```"
   ]
  },
  {
   "cell_type": "markdown",
   "metadata": {},
   "source": [
    "#### get_varianza(x)\n",
    "Función auxiliar para calcular la varianza\n",
    "\n",
    "**Definición**\n",
    "```python\n",
    "get_varianza(x)\n",
    "\"\"\"\n",
    "\tMétodo auxiliar para calcular la varianza\n",
    "\tParámetros:                                                                             \n",
    "\t\tx: (list) vector numérico para el cálculo de la varianza.\n",
    "\tReturn: (float) varianza\n",
    "\"\"\"\n",
    "```"
   ]
  },
  {
   "cell_type": "markdown",
   "metadata": {},
   "source": [
    "#### normalize_variable(x)\n",
    "Función auxiliar para normalizar valores\n",
    "\n",
    "**Definición**\n",
    "```python\n",
    "normalize_variable(x)\n",
    "\"\"\"\n",
    "\tMétodo auxiliar para normalizar valores\n",
    "\tParámetros:                                                                             \n",
    "\t\tx: (list) vector numérico a normalizar entre 0 y 1\n",
    "\tReturn: (list) vector normalizado\n",
    "\"\"\"\n",
    "```"
   ]
  },
  {
   "cell_type": "markdown",
   "metadata": {},
   "source": [
    "#### standardize_variable(x)\n",
    "Función auxiliar para estandarizar valores\n",
    "\n",
    "**Definición**\n",
    "```python\n",
    "standardize_variable(x)\n",
    "\"\"\"\n",
    "\tMétodo auxiliar para la estandarización de valores (media=0, desviación estándar=1)\n",
    "\tParámetros:                                                                             \n",
    "\t\tx: (list) vector numérico a estandarizar\n",
    "\tReturn: (list) vector estandarizado\n",
    "\"\"\"\n",
    "```"
   ]
  },
  {
   "cell_type": "markdown",
   "metadata": {},
   "source": [
    "#### media_variable(x)\n",
    "Función auxiliar para sacar la media\n",
    "\n",
    "**Definición**\n",
    "```python\n",
    "media_variable(x)\n",
    "\"\"\"\n",
    "\tMétodo auxiliar para lcalcular la media\n",
    "\tParámetros:                                                                             \n",
    "\t\tx: (list) vector numérico para el cálculo de la media\n",
    "\tReturn: (float) media\n",
    "\"\"\"\n",
    "```"
   ]
  },
  {
   "cell_type": "markdown",
   "metadata": {},
   "source": [
    "#### sd_variable(x)\n",
    "Función auxiliar para sacar la desviación estandard\n",
    "\n",
    "**Definición**\n",
    "```python\n",
    "sd_variable(x)\n",
    "\"\"\"\n",
    "\tMétodo auxiliar para lcalcular la desviación estandard\n",
    "\tParámetros:                                                                             \n",
    "\t\tx: (list) vector numérico para el cálculo de la desviación estandard\n",
    "\tReturn: (float) desviación estandard\n",
    "\"\"\"\n",
    "```"
   ]
  },
  {
   "cell_type": "markdown",
   "metadata": {},
   "source": [
    "#### get_pearson_cor(x,y)\n",
    "Función auxiliar para calcular la correlación de pearson entre dos variables numéricas\n",
    "\n",
    "**Definición**\n",
    "```python\n",
    "get_pearson_cor(x, y)\n",
    "\"\"\"\n",
    "\tMétodo auxiliar para calcular la correlación de pearson\n",
    "\tParámetros:\n",
    "\t\tx: (list) vector numérico para el cálculo de la correlación\n",
    "\t\tx: (list) vector numérico para el cálculo de la correlación\n",
    "\tReturn: (float) correlación de pearson\n",
    "\"\"\"\n",
    "```"
   ]
  },
  {
   "cell_type": "markdown",
   "metadata": {},
   "source": [
    "#### get_mutual_information_cor(x,y)\n",
    "Función auxiliar para calcular la información mutua entre dos variables categóricas\n",
    "\n",
    "**Definición**\n",
    "```python\n",
    "get_mutual_information_cor(x, y)\n",
    "\"\"\"\n",
    "\tMétodo auxiliar para calcular la información mutua entre dos variables categóricas\n",
    "\tParámetros:\n",
    "\t\tx: (list) vector str para el cálculo de la información mutua\n",
    "\t\tx: (list) vector str para el cálculo de la información mutua\n",
    "\tReturn: (float) información mutua\n",
    "\"\"\"\n",
    "```"
   ]
  },
  {
   "cell_type": "markdown",
   "metadata": {},
   "source": [
    "<a id=\"utils\"></a>\n",
    "# 8. Utilidades\n",
    "\n",
    "### Introducción\n",
    "Además de las funciones necesarias para la implementación de los puntos requeridos en el entregable y las funciones matemáticas necesarias, se han implemetnado algunas funciones auxiliares de utilidad que se encuentran en el fichero `utilities.py`. Estas funciones ayudan a la implementación de tareas comunes durante el desarrollo del código.\n",
    "también se ha desarrollado un fichero llamado `launch.json` para poder debugear el código de python en el IDE vscode, además del fichero `requirements.txt` para instalar las librerias necesarias para ejecutar el código de este notebook.\n",
    "\n",
    "NOTA: aunque no sea necesario, es recomendable instalar las dependencias en un entorno virtual. Para ello, ejecutar los siguientes comandos en la terminal:\n",
    "\n",
    "```bash\n",
    "python3 -m venv venv\n",
    "```\n",
    "\n",
    "### Métodos Implementados"
   ]
  },
  {
   "cell_type": "markdown",
   "metadata": {},
   "source": [
    "#### clean_console()\n",
    "Función auxiliar para limpiar la consola\n",
    "```python\n",
    "clean_console()\n",
    "\"\"\"\n",
    "\tMétodo auxiliar para borrar la consola\n",
    "\"\"\"\n",
    "```"
   ]
  },
  {
   "cell_type": "markdown",
   "metadata": {},
   "source": [
    "\n",
    "### VSCode Debugging\n",
    "\n",
    "Contenido del fichero `launch.json` para poder debugear el código. Debe guardarse en la carpeta `.vscode`, y modificar la variable `${filePath}` por la ruta del archivo que se desea debugear. (Ejemplo: `${workspaceFolder}/Entregable/plot_test.py`)\n",
    "\n",
    "```json\n",
    "{\n",
    "\t\"configurations\": [\n",
    "\t\t{\n",
    "\t\t\t\"name\": \"Python: code debug\",\n",
    "\t\t\t\"type\": \"debugpy\",\n",
    "\t\t\t\"request\": \"launch\",\n",
    "\t\t\t\"program\": \"${filePath}\",\n",
    "\t\t\t\"justMyCode\": false\n",
    "\t\t}\n",
    "\t]\n",
    "}\n",
    "```"
   ]
  }
 ],
 "metadata": {
  "kernelspec": {
   "display_name": "Python 3",
   "language": "python",
   "name": "python3"
  },
  "language_info": {
   "codemirror_mode": {
    "name": "ipython",
    "version": 3
   },
   "file_extension": ".py",
   "mimetype": "text/x-python",
   "name": "python",
   "nbconvert_exporter": "python",
   "pygments_lexer": "ipython3",
   "version": "3.10.8"
  }
 },
 "nbformat": 4,
 "nbformat_minor": 2
}
